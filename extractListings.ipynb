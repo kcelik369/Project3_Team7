{
 "cells": [
  {
   "cell_type": "code",
   "execution_count": 1,
   "id": "435944cd-81e1-428d-9375-1a6ded9cb82b",
   "metadata": {
    "tags": []
   },
   "outputs": [],
   "source": [
    "import pandas as pd\n",
    "import numpy as np\n",
    "\n",
    "# Turn off warning messages\n",
    "import warnings\n",
    "warnings.filterwarnings(\"ignore\")"
   ]
  },
  {
   "cell_type": "code",
   "execution_count": 2,
   "id": "af29bce6-c680-4ec8-bc05-596a4b4ae664",
   "metadata": {
    "tags": []
   },
   "outputs": [],
   "source": [
    "listings_original = pd.read_csv('./Resources/listings.csv')\n",
    "cols = listings_original.columns.tolist()\n",
    "col_dict = {}\n",
    "for i in range(len(cols)):\n",
    "    col_dict[i] = cols[i]\n",
    "# col_dict"
   ]
  },
  {
   "cell_type": "code",
   "execution_count": 3,
   "id": "d1939fe0-f335-47eb-909d-740558282e19",
   "metadata": {
    "tags": []
   },
   "outputs": [
    {
     "data": {
      "text/plain": [
       "True"
      ]
     },
     "execution_count": 3,
     "metadata": {},
     "output_type": "execute_result"
    }
   ],
   "source": [
    "# column 3 used to get most recent entry for each host (see below)\n",
    "hosts_df = listings_original.iloc[:, 16:34].merge(listings_original.iloc[:, [3, 16]], on='host_id')\n",
    "\n",
    "# if true, then we need to cull redundant host IDs before creating table\n",
    "len(hosts_df['host_id']) > len(hosts_df['host_id'].unique())"
   ]
  },
  {
   "cell_type": "code",
   "execution_count": 4,
   "id": "edfb6475-3eda-4494-8331-df10bb8a15a0",
   "metadata": {
    "tags": []
   },
   "outputs": [
    {
     "data": {
      "text/html": [
       "<div>\n",
       "<style scoped>\n",
       "    .dataframe tbody tr th:only-of-type {\n",
       "        vertical-align: middle;\n",
       "    }\n",
       "\n",
       "    .dataframe tbody tr th {\n",
       "        vertical-align: top;\n",
       "    }\n",
       "\n",
       "    .dataframe thead th {\n",
       "        text-align: right;\n",
       "    }\n",
       "</style>\n",
       "<table border=\"1\" class=\"dataframe\">\n",
       "  <thead>\n",
       "    <tr style=\"text-align: right;\">\n",
       "      <th></th>\n",
       "      <th>host_id</th>\n",
       "      <th>host_url</th>\n",
       "      <th>host_name</th>\n",
       "      <th>host_since</th>\n",
       "      <th>host_location</th>\n",
       "      <th>host_about</th>\n",
       "      <th>host_response_time</th>\n",
       "      <th>host_response_rate</th>\n",
       "      <th>host_acceptance_rate</th>\n",
       "      <th>host_is_superhost</th>\n",
       "      <th>host_thumbnail_url</th>\n",
       "      <th>host_picture_url</th>\n",
       "      <th>host_neighbourhood</th>\n",
       "      <th>host_listings_count</th>\n",
       "      <th>host_total_listings_count</th>\n",
       "      <th>host_verifications</th>\n",
       "      <th>host_has_profile_pic</th>\n",
       "      <th>host_identity_verified</th>\n",
       "      <th>last_scraped</th>\n",
       "    </tr>\n",
       "  </thead>\n",
       "  <tbody>\n",
       "    <tr>\n",
       "      <th>7754</th>\n",
       "      <td>4962900</td>\n",
       "      <td>https://www.airbnb.com/users/show/4962900</td>\n",
       "      <td>Jordan</td>\n",
       "      <td>2013-02-04</td>\n",
       "      <td>Spokane, Washington, United States</td>\n",
       "      <td>Stay Alfred was created based on the idea of o...</td>\n",
       "      <td>within an hour</td>\n",
       "      <td>99%</td>\n",
       "      <td>100%</td>\n",
       "      <td>f</td>\n",
       "      <td>https://a1.muscache.com/ac/users/4962900/profi...</td>\n",
       "      <td>https://a1.muscache.com/ac/users/4962900/profi...</td>\n",
       "      <td>Central Business District</td>\n",
       "      <td>169.0</td>\n",
       "      <td>169.0</td>\n",
       "      <td>['email', 'phone', 'linkedin', 'reviews', 'jum...</td>\n",
       "      <td>t</td>\n",
       "      <td>t</td>\n",
       "      <td>2016-01-04</td>\n",
       "    </tr>\n",
       "    <tr>\n",
       "      <th>7755</th>\n",
       "      <td>4962900</td>\n",
       "      <td>https://www.airbnb.com/users/show/4962900</td>\n",
       "      <td>Jordan</td>\n",
       "      <td>2013-02-04</td>\n",
       "      <td>Spokane, Washington, United States</td>\n",
       "      <td>Stay Alfred was created based on the idea of o...</td>\n",
       "      <td>within an hour</td>\n",
       "      <td>99%</td>\n",
       "      <td>100%</td>\n",
       "      <td>f</td>\n",
       "      <td>https://a1.muscache.com/ac/users/4962900/profi...</td>\n",
       "      <td>https://a1.muscache.com/ac/users/4962900/profi...</td>\n",
       "      <td>Central Business District</td>\n",
       "      <td>169.0</td>\n",
       "      <td>169.0</td>\n",
       "      <td>['email', 'phone', 'linkedin', 'reviews', 'jum...</td>\n",
       "      <td>t</td>\n",
       "      <td>t</td>\n",
       "      <td>2016-01-04</td>\n",
       "    </tr>\n",
       "    <tr>\n",
       "      <th>7756</th>\n",
       "      <td>4962900</td>\n",
       "      <td>https://www.airbnb.com/users/show/4962900</td>\n",
       "      <td>Jordan</td>\n",
       "      <td>2013-02-04</td>\n",
       "      <td>Spokane, Washington, United States</td>\n",
       "      <td>Stay Alfred was created based on the idea of o...</td>\n",
       "      <td>within an hour</td>\n",
       "      <td>99%</td>\n",
       "      <td>100%</td>\n",
       "      <td>f</td>\n",
       "      <td>https://a1.muscache.com/ac/users/4962900/profi...</td>\n",
       "      <td>https://a1.muscache.com/ac/users/4962900/profi...</td>\n",
       "      <td>Central Business District</td>\n",
       "      <td>169.0</td>\n",
       "      <td>169.0</td>\n",
       "      <td>['email', 'phone', 'linkedin', 'reviews', 'jum...</td>\n",
       "      <td>t</td>\n",
       "      <td>t</td>\n",
       "      <td>2016-01-04</td>\n",
       "    </tr>\n",
       "  </tbody>\n",
       "</table>\n",
       "</div>"
      ],
      "text/plain": [
       "      host_id                                   host_url host_name  \\\n",
       "7754  4962900  https://www.airbnb.com/users/show/4962900    Jordan   \n",
       "7755  4962900  https://www.airbnb.com/users/show/4962900    Jordan   \n",
       "7756  4962900  https://www.airbnb.com/users/show/4962900    Jordan   \n",
       "\n",
       "      host_since                       host_location  \\\n",
       "7754  2013-02-04  Spokane, Washington, United States   \n",
       "7755  2013-02-04  Spokane, Washington, United States   \n",
       "7756  2013-02-04  Spokane, Washington, United States   \n",
       "\n",
       "                                             host_about host_response_time  \\\n",
       "7754  Stay Alfred was created based on the idea of o...     within an hour   \n",
       "7755  Stay Alfred was created based on the idea of o...     within an hour   \n",
       "7756  Stay Alfred was created based on the idea of o...     within an hour   \n",
       "\n",
       "     host_response_rate host_acceptance_rate host_is_superhost  \\\n",
       "7754                99%                 100%                 f   \n",
       "7755                99%                 100%                 f   \n",
       "7756                99%                 100%                 f   \n",
       "\n",
       "                                     host_thumbnail_url  \\\n",
       "7754  https://a1.muscache.com/ac/users/4962900/profi...   \n",
       "7755  https://a1.muscache.com/ac/users/4962900/profi...   \n",
       "7756  https://a1.muscache.com/ac/users/4962900/profi...   \n",
       "\n",
       "                                       host_picture_url  \\\n",
       "7754  https://a1.muscache.com/ac/users/4962900/profi...   \n",
       "7755  https://a1.muscache.com/ac/users/4962900/profi...   \n",
       "7756  https://a1.muscache.com/ac/users/4962900/profi...   \n",
       "\n",
       "             host_neighbourhood  host_listings_count  \\\n",
       "7754  Central Business District                169.0   \n",
       "7755  Central Business District                169.0   \n",
       "7756  Central Business District                169.0   \n",
       "\n",
       "      host_total_listings_count  \\\n",
       "7754                      169.0   \n",
       "7755                      169.0   \n",
       "7756                      169.0   \n",
       "\n",
       "                                     host_verifications host_has_profile_pic  \\\n",
       "7754  ['email', 'phone', 'linkedin', 'reviews', 'jum...                    t   \n",
       "7755  ['email', 'phone', 'linkedin', 'reviews', 'jum...                    t   \n",
       "7756  ['email', 'phone', 'linkedin', 'reviews', 'jum...                    t   \n",
       "\n",
       "     host_identity_verified last_scraped  \n",
       "7754                      t   2016-01-04  \n",
       "7755                      t   2016-01-04  \n",
       "7756                      t   2016-01-04  "
      ]
     },
     "execution_count": 4,
     "metadata": {},
     "output_type": "execute_result"
    }
   ],
   "source": [
    "# look at redundant host data to determine best course of how to consolidate columns\n",
    "idx = 1 # index var for quick switching\n",
    "redundant_host_id = hosts_df['host_id'].value_counts().keys()[idx]\n",
    "hosts_df[hosts_df['host_id'] == redundant_host_id].head(3)"
   ]
  },
  {
   "cell_type": "code",
   "execution_count": 5,
   "id": "5d93eca7-006a-49b1-909f-c597cab59584",
   "metadata": {
    "tags": []
   },
   "outputs": [
    {
     "data": {
      "text/plain": [
       "True"
      ]
     },
     "execution_count": 5,
     "metadata": {},
     "output_type": "execute_result"
    }
   ],
   "source": [
    "# observed little variation between redundant host rows, okay to cull all but most recent\n",
    "sorted_hosts_df = hosts_df.sort_values('last_scraped', ascending=False).drop_duplicates('host_id')\n",
    "# make same redundancy check\n",
    "len(sorted_hosts_df['host_id']) == len(sorted_hosts_df['host_id'].unique())"
   ]
  },
  {
   "cell_type": "code",
   "execution_count": 6,
   "id": "8cd2ae90-f6c1-4956-846c-eb067e16801d",
   "metadata": {
    "tags": []
   },
   "outputs": [
    {
     "data": {
      "text/plain": [
       "['host_id',\n",
       " 'host_since',\n",
       " 'host_location',\n",
       " 'host_response_time',\n",
       " 'host_response_rate',\n",
       " 'host_acceptance_rate',\n",
       " 'host_is_superhost',\n",
       " 'host_neighbourhood',\n",
       " 'host_listings_count',\n",
       " 'host_total_listings_count',\n",
       " 'host_verifications',\n",
       " 'host_has_profile_pic',\n",
       " 'host_identity_verified']"
      ]
     },
     "execution_count": 6,
     "metadata": {},
     "output_type": "execute_result"
    }
   ],
   "source": [
    "# remove extraneous columns; axis specifies to drop on col name, inplace modifies orignal DF\n",
    "sorted_hosts_df.drop(['host_url', 'host_name', 'host_about', 'host_thumbnail_url', 'host_picture_url', 'last_scraped'], axis=1, inplace=True)\n",
    "# remaining columns might be used to perform analysis on host qualities vs listing/host ratings\n",
    "# name removed for data ethics\n",
    "sorted_hosts_df.columns.to_list()"
   ]
  },
  {
   "cell_type": "code",
   "execution_count": 7,
   "id": "49ebfccf-6f35-44e7-8404-faeb8bdeb762",
   "metadata": {
    "tags": []
   },
   "outputs": [
    {
     "name": "stdout",
     "output_type": "stream",
     "text": [
      "<class 'pandas.core.frame.DataFrame'>\n",
      "Index: 2751 entries, 0 to 16327\n",
      "Data columns (total 13 columns):\n",
      " #   Column                     Non-Null Count  Dtype  \n",
      "---  ------                     --------------  -----  \n",
      " 0   host_id                    2751 non-null   int64  \n",
      " 1   host_since                 2749 non-null   object \n",
      " 2   host_location              2743 non-null   object \n",
      " 3   host_response_time         2247 non-null   object \n",
      " 4   host_response_rate         2247 non-null   object \n",
      " 5   host_acceptance_rate       2020 non-null   object \n",
      " 6   host_is_superhost          2749 non-null   object \n",
      " 7   host_neighbourhood         2472 non-null   object \n",
      " 8   host_listings_count        2749 non-null   float64\n",
      " 9   host_total_listings_count  2749 non-null   float64\n",
      " 10  host_verifications         2749 non-null   object \n",
      " 11  host_has_profile_pic       2749 non-null   object \n",
      " 12  host_identity_verified     2749 non-null   object \n",
      "dtypes: float64(2), int64(1), object(10)\n",
      "memory usage: 300.9+ KB\n"
     ]
    }
   ],
   "source": [
    "sorted_hosts_df.info()"
   ]
  },
  {
   "cell_type": "code",
   "execution_count": 8,
   "id": "568e26ce-d17e-4e11-b616-6874c46bf02a",
   "metadata": {
    "tags": []
   },
   "outputs": [],
   "source": [
    "# TODO - reformat certain column data types: \n",
    "# host_since => days since host joined (int)\n",
    "# host_response_rate, host_acceptance_rate => float\n",
    "# host_is_superhost, host_has_profile_pic => boolean\n",
    "# condense listings_count and total_listings_count - DELETE total_listings_count\n",
    "# host_verifications => host number types verified (int)\n",
    "sorted_hosts_df.to_csv('./Resources/hosts.csv', index=False)"
   ]
  },
  {
   "cell_type": "code",
   "execution_count": 9,
   "id": "fb903f3f-056f-4130-a0e5-7d54e2a25dde",
   "metadata": {
    "tags": []
   },
   "outputs": [
    {
     "data": {
      "text/html": [
       "<div>\n",
       "<style scoped>\n",
       "    .dataframe tbody tr th:only-of-type {\n",
       "        vertical-align: middle;\n",
       "    }\n",
       "\n",
       "    .dataframe tbody tr th {\n",
       "        vertical-align: top;\n",
       "    }\n",
       "\n",
       "    .dataframe thead th {\n",
       "        text-align: right;\n",
       "    }\n",
       "</style>\n",
       "<table border=\"1\" class=\"dataframe\">\n",
       "  <thead>\n",
       "    <tr style=\"text-align: right;\">\n",
       "      <th></th>\n",
       "      <th>id</th>\n",
       "      <th>name</th>\n",
       "      <th>host_id</th>\n",
       "      <th>street</th>\n",
       "      <th>neighbourhood</th>\n",
       "      <th>zipcode</th>\n",
       "      <th>property_type</th>\n",
       "      <th>room_type</th>\n",
       "      <th>accommodates</th>\n",
       "      <th>bathrooms</th>\n",
       "      <th>...</th>\n",
       "      <th>review_scores_cleanliness</th>\n",
       "      <th>review_scores_checkin</th>\n",
       "      <th>review_scores_communication</th>\n",
       "      <th>review_scores_location</th>\n",
       "      <th>review_scores_value</th>\n",
       "      <th>instant_bookable</th>\n",
       "      <th>cancellation_policy</th>\n",
       "      <th>require_guest_profile_picture</th>\n",
       "      <th>require_guest_phone_verification</th>\n",
       "      <th>reviews_per_month</th>\n",
       "    </tr>\n",
       "  </thead>\n",
       "  <tbody>\n",
       "    <tr>\n",
       "      <th>0</th>\n",
       "      <td>241032</td>\n",
       "      <td>Stylish Queen Anne Apartment</td>\n",
       "      <td>956883</td>\n",
       "      <td>Gilman Dr W, Seattle, WA 98119, United States</td>\n",
       "      <td>Queen Anne</td>\n",
       "      <td>98119</td>\n",
       "      <td>Apartment</td>\n",
       "      <td>Entire home/apt</td>\n",
       "      <td>4</td>\n",
       "      <td>1.0</td>\n",
       "      <td>...</td>\n",
       "      <td>10.0</td>\n",
       "      <td>10.0</td>\n",
       "      <td>10.0</td>\n",
       "      <td>9.0</td>\n",
       "      <td>10.0</td>\n",
       "      <td>f</td>\n",
       "      <td>moderate</td>\n",
       "      <td>f</td>\n",
       "      <td>f</td>\n",
       "      <td>4.07</td>\n",
       "    </tr>\n",
       "    <tr>\n",
       "      <th>1</th>\n",
       "      <td>953595</td>\n",
       "      <td>Bright &amp; Airy Queen Anne Apartment</td>\n",
       "      <td>5177328</td>\n",
       "      <td>7th Avenue West, Seattle, WA 98119, United States</td>\n",
       "      <td>Queen Anne</td>\n",
       "      <td>98119</td>\n",
       "      <td>Apartment</td>\n",
       "      <td>Entire home/apt</td>\n",
       "      <td>4</td>\n",
       "      <td>1.0</td>\n",
       "      <td>...</td>\n",
       "      <td>10.0</td>\n",
       "      <td>10.0</td>\n",
       "      <td>10.0</td>\n",
       "      <td>10.0</td>\n",
       "      <td>10.0</td>\n",
       "      <td>f</td>\n",
       "      <td>strict</td>\n",
       "      <td>t</td>\n",
       "      <td>t</td>\n",
       "      <td>1.48</td>\n",
       "    </tr>\n",
       "    <tr>\n",
       "      <th>2</th>\n",
       "      <td>3308979</td>\n",
       "      <td>New Modern House-Amazing water view</td>\n",
       "      <td>16708587</td>\n",
       "      <td>West Lee Street, Seattle, WA 98119, United States</td>\n",
       "      <td>Queen Anne</td>\n",
       "      <td>98119</td>\n",
       "      <td>House</td>\n",
       "      <td>Entire home/apt</td>\n",
       "      <td>11</td>\n",
       "      <td>4.5</td>\n",
       "      <td>...</td>\n",
       "      <td>10.0</td>\n",
       "      <td>10.0</td>\n",
       "      <td>10.0</td>\n",
       "      <td>10.0</td>\n",
       "      <td>10.0</td>\n",
       "      <td>f</td>\n",
       "      <td>strict</td>\n",
       "      <td>f</td>\n",
       "      <td>f</td>\n",
       "      <td>1.15</td>\n",
       "    </tr>\n",
       "  </tbody>\n",
       "</table>\n",
       "<p>3 rows × 40 columns</p>\n",
       "</div>"
      ],
      "text/plain": [
       "        id                                 name   host_id  \\\n",
       "0   241032         Stylish Queen Anne Apartment    956883   \n",
       "1   953595   Bright & Airy Queen Anne Apartment   5177328   \n",
       "2  3308979  New Modern House-Amazing water view  16708587   \n",
       "\n",
       "                                              street neighbourhood zipcode  \\\n",
       "0      Gilman Dr W, Seattle, WA 98119, United States    Queen Anne   98119   \n",
       "1  7th Avenue West, Seattle, WA 98119, United States    Queen Anne   98119   \n",
       "2  West Lee Street, Seattle, WA 98119, United States    Queen Anne   98119   \n",
       "\n",
       "  property_type        room_type  accommodates  bathrooms  ...  \\\n",
       "0     Apartment  Entire home/apt             4        1.0  ...   \n",
       "1     Apartment  Entire home/apt             4        1.0  ...   \n",
       "2         House  Entire home/apt            11        4.5  ...   \n",
       "\n",
       "   review_scores_cleanliness  review_scores_checkin  \\\n",
       "0                       10.0                   10.0   \n",
       "1                       10.0                   10.0   \n",
       "2                       10.0                   10.0   \n",
       "\n",
       "  review_scores_communication review_scores_location review_scores_value  \\\n",
       "0                        10.0                    9.0                10.0   \n",
       "1                        10.0                   10.0                10.0   \n",
       "2                        10.0                   10.0                10.0   \n",
       "\n",
       "  instant_bookable cancellation_policy require_guest_profile_picture  \\\n",
       "0                f            moderate                             f   \n",
       "1                f              strict                             t   \n",
       "2                f              strict                             f   \n",
       "\n",
       "  require_guest_phone_verification  reviews_per_month  \n",
       "0                                f               4.07  \n",
       "1                                t               1.48  \n",
       "2                                f               1.15  \n",
       "\n",
       "[3 rows x 40 columns]"
      ]
     },
     "execution_count": 9,
     "metadata": {},
     "output_type": "execute_result"
    }
   ],
   "source": [
    "# TODO: work from listings_original to create DF to export for listings table\n",
    "# ===========================================================================\n",
    "listing_cols = [\n",
    "    0,4,16,34,35,40,48,49,50,51,52,53,54,55,57,58,59,\n",
    "    60,61,62,63,64,65,68,69,70,71,73,76,77,78,79,80,\n",
    "    81,82,86,87,88,89,91\n",
    "]\n",
    "listings_df = listings_original.iloc[:, listing_cols]\n",
    "listings_df.head(3)"
   ]
  },
  {
   "cell_type": "code",
   "execution_count": 10,
   "id": "d5b147dd-d147-448d-8340-100361147212",
   "metadata": {
    "tags": []
   },
   "outputs": [
    {
     "name": "stdout",
     "output_type": "stream",
     "text": [
      "length: 3818\n"
     ]
    },
    {
     "data": {
      "text/plain": [
       "True"
      ]
     },
     "execution_count": 10,
     "metadata": {},
     "output_type": "execute_result"
    }
   ],
   "source": [
    "# check to ensure that all listings are unique\n",
    "print(\"length: \" + str(len(listings_df['id'])))\n",
    "len(listings_df['id']) == len(listings_df['id'].unique())"
   ]
  },
  {
   "cell_type": "code",
   "execution_count": 11,
   "id": "9c1e18b3-d085-451e-8297-56782b7649dc",
   "metadata": {
    "tags": []
   },
   "outputs": [
    {
     "name": "stdout",
     "output_type": "stream",
     "text": [
      "<class 'pandas.core.frame.DataFrame'>\n",
      "RangeIndex: 3818 entries, 0 to 3817\n",
      "Data columns (total 40 columns):\n",
      " #   Column                            Non-Null Count  Dtype  \n",
      "---  ------                            --------------  -----  \n",
      " 0   id                                3818 non-null   int64  \n",
      " 1   name                              3818 non-null   object \n",
      " 2   host_id                           3818 non-null   int64  \n",
      " 3   street                            3818 non-null   object \n",
      " 4   neighbourhood                     3402 non-null   object \n",
      " 5   zipcode                           3811 non-null   object \n",
      " 6   property_type                     3817 non-null   object \n",
      " 7   room_type                         3818 non-null   object \n",
      " 8   accommodates                      3818 non-null   int64  \n",
      " 9   bathrooms                         3802 non-null   float64\n",
      " 10  bedrooms                          3812 non-null   float64\n",
      " 11  beds                              3817 non-null   float64\n",
      " 12  bed_type                          3818 non-null   object \n",
      " 13  amenities                         3818 non-null   object \n",
      " 14  price                             3818 non-null   object \n",
      " 15  weekly_price                      2009 non-null   object \n",
      " 16  monthly_price                     1517 non-null   object \n",
      " 17  security_deposit                  1866 non-null   object \n",
      " 18  cleaning_fee                      2788 non-null   object \n",
      " 19  guests_included                   3818 non-null   int64  \n",
      " 20  extra_people                      3818 non-null   object \n",
      " 21  minimum_nights                    3818 non-null   int64  \n",
      " 22  maximum_nights                    3818 non-null   int64  \n",
      " 23  availability_30                   3818 non-null   int64  \n",
      " 24  availability_60                   3818 non-null   int64  \n",
      " 25  availability_90                   3818 non-null   int64  \n",
      " 26  availability_365                  3818 non-null   int64  \n",
      " 27  number_of_reviews                 3818 non-null   int64  \n",
      " 28  review_scores_rating              3171 non-null   float64\n",
      " 29  review_scores_accuracy            3160 non-null   float64\n",
      " 30  review_scores_cleanliness         3165 non-null   float64\n",
      " 31  review_scores_checkin             3160 non-null   float64\n",
      " 32  review_scores_communication       3167 non-null   float64\n",
      " 33  review_scores_location            3163 non-null   float64\n",
      " 34  review_scores_value               3162 non-null   float64\n",
      " 35  instant_bookable                  3818 non-null   object \n",
      " 36  cancellation_policy               3818 non-null   object \n",
      " 37  require_guest_profile_picture     3818 non-null   object \n",
      " 38  require_guest_phone_verification  3818 non-null   object \n",
      " 39  reviews_per_month                 3191 non-null   float64\n",
      "dtypes: float64(11), int64(11), object(18)\n",
      "memory usage: 1.2+ MB\n"
     ]
    }
   ],
   "source": [
    "listings_df.info()"
   ]
  },
  {
   "cell_type": "code",
   "execution_count": 12,
   "id": "489a6752-5ca1-469b-bb8d-b884ef587668",
   "metadata": {},
   "outputs": [
    {
     "name": "stdout",
     "output_type": "stream",
     "text": [
      "<class 'pandas.core.frame.DataFrame'>\n",
      "RangeIndex: 3818 entries, 0 to 3817\n",
      "Data columns (total 31 columns):\n",
      " #   Column                            Non-Null Count  Dtype  \n",
      "---  ------                            --------------  -----  \n",
      " 0   id                                3818 non-null   int64  \n",
      " 1   name                              3818 non-null   object \n",
      " 2   host_id                           3818 non-null   int64  \n",
      " 3   street                            3818 non-null   object \n",
      " 4   neighbourhood                     3402 non-null   object \n",
      " 5   zipcode                           3811 non-null   object \n",
      " 6   property_type                     3817 non-null   object \n",
      " 7   room_type                         3818 non-null   object \n",
      " 8   accommodates                      3818 non-null   int64  \n",
      " 9   bathrooms                         3802 non-null   float64\n",
      " 10  bedrooms                          3812 non-null   float64\n",
      " 11  beds                              3817 non-null   float64\n",
      " 12  bed_type                          3818 non-null   object \n",
      " 13  amenities                         3818 non-null   object \n",
      " 14  price                             3818 non-null   object \n",
      " 15  weekly_price                      2009 non-null   object \n",
      " 16  monthly_price                     1517 non-null   object \n",
      " 17  security_deposit                  1866 non-null   object \n",
      " 18  cleaning_fee                      2788 non-null   object \n",
      " 19  guests_included                   3818 non-null   int64  \n",
      " 20  extra_people                      3818 non-null   object \n",
      " 21  minimum_nights                    3818 non-null   int64  \n",
      " 22  maximum_nights                    3818 non-null   int64  \n",
      " 23  availability_30                   3818 non-null   int64  \n",
      " 24  availability_60                   3818 non-null   int64  \n",
      " 25  availability_90                   3818 non-null   int64  \n",
      " 26  availability_365                  3818 non-null   int64  \n",
      " 27  instant_bookable                  3818 non-null   object \n",
      " 28  cancellation_policy               3818 non-null   object \n",
      " 29  require_guest_profile_picture     3818 non-null   object \n",
      " 30  require_guest_phone_verification  3818 non-null   object \n",
      "dtypes: float64(3), int64(10), object(18)\n",
      "memory usage: 924.8+ KB\n"
     ]
    }
   ],
   "source": [
    "# split out review cols to make listings table less huge\n",
    "# also allow simpler queries for review-related joins\n",
    "base_cols = np.concatenate([np.arange(0,27), np.arange(35,39)])\n",
    "review_cols = np.concatenate([[0], np.arange(27,35), [39]])\n",
    "base_listings_df = listings_df.iloc[:, base_cols]\n",
    "listing_reviews_df = listings_df.iloc[:, review_cols]\n",
    "base_listings_df.info()"
   ]
  },
  {
   "cell_type": "code",
   "execution_count": 13,
   "id": "bfa08d13-f535-47b8-87f6-97334e10e70e",
   "metadata": {
    "tags": []
   },
   "outputs": [
    {
     "data": {
      "text/plain": [
       "921     1.0\n",
       "2648    1.0\n",
       "604     1.0\n",
       "Name: avg_availability, dtype: float64"
      ]
     },
     "execution_count": 13,
     "metadata": {},
     "output_type": "execute_result"
    }
   ],
   "source": [
    "# retype availabilities as percentages\n",
    "base_listings_df['availability_30'] = base_listings_df['availability_30'].astype('int') / 30\n",
    "base_listings_df['availability_60'] = base_listings_df['availability_60'].astype('int') / 60\n",
    "base_listings_df['availability_90'] = base_listings_df['availability_90'].astype('int') / 90\n",
    "base_listings_df['availability_365'] = base_listings_df['availability_365'].astype('int') / 365\n",
    "\n",
    "# create new, single column with avg availability and remove old columns\n",
    "base_listings_df['avg_availability'] = (base_listings_df['availability_30'] + base_listings_df['availability_60'] + \n",
    "                                       base_listings_df['availability_90'] + base_listings_df['availability_365']) / 4\n",
    "base_listings_df.drop(['availability_30','availability_60','availability_90','availability_365'], inplace=True, axis=1)\n",
    "base_listings_df.sort_values('avg_availability', ascending=False)['avg_availability'].head(3)"
   ]
  },
  {
   "cell_type": "code",
   "execution_count": 14,
   "id": "41782e63-ab52-4cc9-9d7a-9fb9153c24ab",
   "metadata": {
    "tags": []
   },
   "outputs": [],
   "source": [
    "# retype number columns (bathrooms can be half)\n",
    "base_listings_df['accommodates'] = base_listings_df['accommodates'].astype('int')\n",
    "base_listings_df['bathrooms'].fillna('-1.0', inplace=True)\n",
    "base_listings_df['bathrooms'] = base_listings_df['bathrooms'].replace('', '-1.0').astype('float')\n",
    "base_listings_df['guests_included'] = base_listings_df['guests_included'].astype('int')\n",
    "base_listings_df['minimum_nights'] = base_listings_df['minimum_nights'].astype('int')\n",
    "base_listings_df['maximum_nights'] = base_listings_df['maximum_nights'].astype('int')\n",
    "\n",
    "# extremely few rows missing data; okay to drop\n",
    "base_listings_df['bedrooms'].fillna('-1', inplace=True)\n",
    "base_listings_df['bedrooms'] = base_listings_df['bedrooms'].replace('', '-1').astype('int')\n",
    "base_listings_df['beds'].fillna('-1', inplace=True)\n",
    "base_listings_df['beds'] = base_listings_df['beds'].replace('', '-1').astype('int')\n",
    "\n",
    "# zipcode has one weird outlier with a newline; bad entry maybe\n",
    "base_listings_df['zipcode'].fillna('-1', inplace=True)\n",
    "base_listings_df['zipcode'] = base_listings_df['zipcode'].replace('[0-9]+\\n','', regex=True).replace('', '-1').astype('int')\n",
    "\n",
    "def cleanPrice(column):\n",
    "    curr_str = column.str\n",
    "    if curr_str == '':\n",
    "        return curr_str.replace('', '-1.0').astype('float')\n",
    "    return curr_str.replace('$','').str.replace(',','').astype('float')\n",
    "\n",
    "# clean price columns\n",
    "base_listings_df['price'] = cleanPrice(base_listings_df['price'])\n",
    "\n",
    "# all other money values have some null / \"N/A\" rows we need to clean first\n",
    "base_listings_df['weekly_price'] = cleanPrice(base_listings_df['weekly_price'])\n",
    "base_listings_df['monthly_price'] = cleanPrice(base_listings_df['monthly_price'])\n",
    "base_listings_df['security_deposit'] = cleanPrice(base_listings_df['security_deposit'])\n",
    "base_listings_df['cleaning_fee'] = cleanPrice(base_listings_df['cleaning_fee'])\n",
    "base_listings_df['extra_people'] = cleanPrice(base_listings_df['extra_people'])\n",
    "\n",
    "base_listings_df['weekly_price'].fillna(-1.0, inplace=True)\n",
    "base_listings_df['monthly_price'].fillna(-1.0, inplace=True)\n",
    "base_listings_df['security_deposit'].fillna(-1.0, inplace=True)\n",
    "base_listings_df['cleaning_fee'].fillna(-1.0, inplace=True)\n",
    "base_listings_df['extra_people'].fillna(-1.0, inplace=True)\n",
    "\n",
    "# clean to-be boolean columns\n",
    "base_listings_df['require_guest_profile_picture'] = base_listings_df['require_guest_profile_picture'].str.replace('t','True')\n",
    "base_listings_df['require_guest_profile_picture'] = base_listings_df['require_guest_profile_picture'].str.replace('f','False').astype('bool')\n",
    "base_listings_df['require_guest_phone_verification'] = base_listings_df['require_guest_phone_verification'].str.replace('t','True')\n",
    "base_listings_df['require_guest_phone_verification'] = base_listings_df['require_guest_phone_verification'].str.replace('f','False').astype('bool')\n",
    "base_listings_df['instant_bookable'] = base_listings_df['instant_bookable'].str.replace('t','True')\n",
    "base_listings_df['instant_bookable'] = base_listings_df['instant_bookable'].str.replace('f','False').astype('bool')\n",
    "\n",
    "# all remaining columns to strings\n",
    "base_listings_df['name'] = base_listings_df['name'].astype('string')\n",
    "base_listings_df['street'] = base_listings_df['street'].astype('string')\n",
    "base_listings_df['neighbourhood'] = base_listings_df['neighbourhood'].astype('string')\n",
    "base_listings_df['property_type'] = base_listings_df['property_type'].astype('string')\n",
    "base_listings_df['room_type'] = base_listings_df['room_type'].astype('string')\n",
    "base_listings_df['bed_type'] = base_listings_df['bed_type'].astype('string')\n",
    "base_listings_df['cancellation_policy'] = base_listings_df['cancellation_policy'].astype('string')"
   ]
  },
  {
   "cell_type": "code",
   "execution_count": 15,
   "id": "27aa653a-9722-4cec-995d-101b18c832f2",
   "metadata": {
    "tags": []
   },
   "outputs": [],
   "source": [
    "base_listings_df['amenities'] = base_listings_df['amenities'].apply(lambda amenities: str(amenities.count(',') + 1))\n",
    "base_listings_df['amenities'] = base_listings_df['amenities'].astype('int')\n",
    "base_listings_df = base_listings_df.rename(columns={ 'amenities': 'amenities_count' })"
   ]
  },
  {
   "cell_type": "code",
   "execution_count": 16,
   "id": "de4ce1c2-5d9e-455d-96a6-470aa1812390",
   "metadata": {},
   "outputs": [
    {
     "data": {
      "text/html": [
       "<div>\n",
       "<style scoped>\n",
       "    .dataframe tbody tr th:only-of-type {\n",
       "        vertical-align: middle;\n",
       "    }\n",
       "\n",
       "    .dataframe tbody tr th {\n",
       "        vertical-align: top;\n",
       "    }\n",
       "\n",
       "    .dataframe thead th {\n",
       "        text-align: right;\n",
       "    }\n",
       "</style>\n",
       "<table border=\"1\" class=\"dataframe\">\n",
       "  <thead>\n",
       "    <tr style=\"text-align: right;\">\n",
       "      <th></th>\n",
       "      <th>listing_id</th>\n",
       "      <th>number_of_reviews</th>\n",
       "      <th>review_scores_rating</th>\n",
       "      <th>review_scores_accuracy</th>\n",
       "      <th>review_scores_cleanliness</th>\n",
       "      <th>review_scores_checkin</th>\n",
       "      <th>review_scores_communication</th>\n",
       "      <th>review_scores_location</th>\n",
       "      <th>review_scores_value</th>\n",
       "      <th>reviews_per_month</th>\n",
       "    </tr>\n",
       "    <tr>\n",
       "      <th>score_id</th>\n",
       "      <th></th>\n",
       "      <th></th>\n",
       "      <th></th>\n",
       "      <th></th>\n",
       "      <th></th>\n",
       "      <th></th>\n",
       "      <th></th>\n",
       "      <th></th>\n",
       "      <th></th>\n",
       "      <th></th>\n",
       "    </tr>\n",
       "  </thead>\n",
       "  <tbody>\n",
       "    <tr>\n",
       "      <th>0</th>\n",
       "      <td>241032</td>\n",
       "      <td>207</td>\n",
       "      <td>95</td>\n",
       "      <td>10</td>\n",
       "      <td>10</td>\n",
       "      <td>10</td>\n",
       "      <td>10</td>\n",
       "      <td>9</td>\n",
       "      <td>10</td>\n",
       "      <td>4.07</td>\n",
       "    </tr>\n",
       "    <tr>\n",
       "      <th>1</th>\n",
       "      <td>953595</td>\n",
       "      <td>43</td>\n",
       "      <td>96</td>\n",
       "      <td>10</td>\n",
       "      <td>10</td>\n",
       "      <td>10</td>\n",
       "      <td>10</td>\n",
       "      <td>10</td>\n",
       "      <td>10</td>\n",
       "      <td>1.48</td>\n",
       "    </tr>\n",
       "    <tr>\n",
       "      <th>2</th>\n",
       "      <td>3308979</td>\n",
       "      <td>20</td>\n",
       "      <td>97</td>\n",
       "      <td>10</td>\n",
       "      <td>10</td>\n",
       "      <td>10</td>\n",
       "      <td>10</td>\n",
       "      <td>10</td>\n",
       "      <td>10</td>\n",
       "      <td>1.15</td>\n",
       "    </tr>\n",
       "  </tbody>\n",
       "</table>\n",
       "</div>"
      ],
      "text/plain": [
       "          listing_id  number_of_reviews  review_scores_rating  \\\n",
       "score_id                                                        \n",
       "0             241032                207                    95   \n",
       "1             953595                 43                    96   \n",
       "2            3308979                 20                    97   \n",
       "\n",
       "          review_scores_accuracy  review_scores_cleanliness  \\\n",
       "score_id                                                      \n",
       "0                             10                         10   \n",
       "1                             10                         10   \n",
       "2                             10                         10   \n",
       "\n",
       "          review_scores_checkin  review_scores_communication  \\\n",
       "score_id                                                       \n",
       "0                            10                           10   \n",
       "1                            10                           10   \n",
       "2                            10                           10   \n",
       "\n",
       "          review_scores_location  review_scores_value  reviews_per_month  \n",
       "score_id                                                                  \n",
       "0                              9                   10               4.07  \n",
       "1                             10                   10               1.48  \n",
       "2                             10                   10               1.15  "
      ]
     },
     "execution_count": 16,
     "metadata": {},
     "output_type": "execute_result"
    }
   ],
   "source": [
    "listing_reviews_df['review_scores_rating'].fillna(-1, inplace=True)\n",
    "listing_reviews_df['review_scores_rating'] = listing_reviews_df['review_scores_rating'].astype('int')\n",
    "listing_reviews_df['review_scores_accuracy'].fillna(-1, inplace=True)\n",
    "listing_reviews_df['review_scores_accuracy'] = listing_reviews_df['review_scores_accuracy'].astype('int')\n",
    "listing_reviews_df['review_scores_cleanliness'].fillna(-1, inplace=True)\n",
    "listing_reviews_df['review_scores_cleanliness'] = listing_reviews_df['review_scores_cleanliness'].astype('int')\n",
    "listing_reviews_df['review_scores_checkin'].fillna(-1, inplace=True)\n",
    "listing_reviews_df['review_scores_checkin'] = listing_reviews_df['review_scores_checkin'].astype('int')\n",
    "listing_reviews_df['review_scores_communication'].fillna(-1, inplace=True)\n",
    "listing_reviews_df['review_scores_communication'] = listing_reviews_df['review_scores_communication'].astype('int')\n",
    "listing_reviews_df['review_scores_location'].fillna(-1, inplace=True)\n",
    "listing_reviews_df['review_scores_location'] = listing_reviews_df['review_scores_location'].astype('int')\n",
    "listing_reviews_df['review_scores_value'].fillna(-1, inplace=True)\n",
    "listing_reviews_df['review_scores_value'] = listing_reviews_df['review_scores_value'].astype('int')\n",
    "listing_reviews_df['reviews_per_month'].fillna(-1.0, inplace=True)\n",
    "listing_reviews_df = listing_reviews_df.rename(columns={'id': 'listing_id'})\n",
    "listing_reviews_df.index.names = ['score_id']\n",
    "listing_reviews_df.head(3)"
   ]
  },
  {
   "cell_type": "code",
   "execution_count": 17,
   "id": "baab647f-1bcd-41c3-870c-ca7cb2c88394",
   "metadata": {
    "tags": []
   },
   "outputs": [],
   "source": [
    "# save listings-related tables as new CSVs\n",
    "listing_reviews_df.to_csv('./Resources/listing_scores.csv')\n",
    "base_listings_df.to_csv('./Resources/listings_cleaned.csv', index=False)"
   ]
  },
  {
   "cell_type": "code",
   "execution_count": 18,
   "id": "a003d044-f2a9-4511-8730-2bd34e68d0a7",
   "metadata": {
    "tags": []
   },
   "outputs": [
    {
     "name": "stdout",
     "output_type": "stream",
     "text": [
      "<class 'pandas.core.frame.DataFrame'>\n",
      "RangeIndex: 3818 entries, 0 to 3817\n",
      "Data columns (total 28 columns):\n",
      " #   Column                            Non-Null Count  Dtype  \n",
      "---  ------                            --------------  -----  \n",
      " 0   id                                3818 non-null   int64  \n",
      " 1   name                              3818 non-null   string \n",
      " 2   host_id                           3818 non-null   int64  \n",
      " 3   street                            3818 non-null   string \n",
      " 4   neighbourhood                     3402 non-null   string \n",
      " 5   zipcode                           3818 non-null   int32  \n",
      " 6   property_type                     3817 non-null   string \n",
      " 7   room_type                         3818 non-null   string \n",
      " 8   accommodates                      3818 non-null   int32  \n",
      " 9   bathrooms                         3818 non-null   float64\n",
      " 10  bedrooms                          3818 non-null   int32  \n",
      " 11  beds                              3818 non-null   int32  \n",
      " 12  bed_type                          3818 non-null   string \n",
      " 13  amenities_count                   3818 non-null   int32  \n",
      " 14  price                             3818 non-null   float64\n",
      " 15  weekly_price                      3818 non-null   float64\n",
      " 16  monthly_price                     3818 non-null   float64\n",
      " 17  security_deposit                  3818 non-null   float64\n",
      " 18  cleaning_fee                      3818 non-null   float64\n",
      " 19  guests_included                   3818 non-null   int32  \n",
      " 20  extra_people                      3818 non-null   float64\n",
      " 21  minimum_nights                    3818 non-null   int32  \n",
      " 22  maximum_nights                    3818 non-null   int32  \n",
      " 23  instant_bookable                  3818 non-null   bool   \n",
      " 24  cancellation_policy               3818 non-null   string \n",
      " 25  require_guest_profile_picture     3818 non-null   bool   \n",
      " 26  require_guest_phone_verification  3818 non-null   bool   \n",
      " 27  avg_availability                  3818 non-null   float64\n",
      "dtypes: bool(3), float64(8), int32(8), int64(2), string(7)\n",
      "memory usage: 637.7 KB\n"
     ]
    }
   ],
   "source": [
    "base_listings_df.info()\n",
    "# listing_reviews_df.info()"
   ]
  },
  {
   "cell_type": "code",
   "execution_count": null,
   "id": "e8497a2b-584e-4c1e-81ab-532078506ad1",
   "metadata": {},
   "outputs": [],
   "source": []
  }
 ],
 "metadata": {
  "kernelspec": {
   "display_name": "Python 3 (ipykernel)",
   "language": "python",
   "name": "python3"
  },
  "language_info": {
   "codemirror_mode": {
    "name": "ipython",
    "version": 3
   },
   "file_extension": ".py",
   "mimetype": "text/x-python",
   "name": "python",
   "nbconvert_exporter": "python",
   "pygments_lexer": "ipython3",
   "version": "3.10.13"
  }
 },
 "nbformat": 4,
 "nbformat_minor": 5
}
