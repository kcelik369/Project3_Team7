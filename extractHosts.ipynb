{
 "cells": [
  {
   "cell_type": "code",
   "execution_count": 10,
   "id": "435944cd-81e1-428d-9375-1a6ded9cb82b",
   "metadata": {
    "tags": []
   },
   "outputs": [],
   "source": [
    "import pandas as pd"
   ]
  },
  {
   "cell_type": "code",
   "execution_count": 11,
   "id": "af29bce6-c680-4ec8-bc05-596a4b4ae664",
   "metadata": {
    "tags": []
   },
   "outputs": [],
   "source": [
    "listings_original = pd.read_csv('./Resources/listings.csv')\n",
    "cols = listings_original.columns.tolist()\n",
    "col_dict = {}\n",
    "for i in range(len(cols)):\n",
    "    col_dict[i] = cols[i]\n",
    "# col_dict"
   ]
  },
  {
   "cell_type": "code",
   "execution_count": 12,
   "id": "d1939fe0-f335-47eb-909d-740558282e19",
   "metadata": {
    "tags": []
   },
   "outputs": [
    {
     "data": {
      "text/plain": [
       "True"
      ]
     },
     "execution_count": 12,
     "metadata": {},
     "output_type": "execute_result"
    }
   ],
   "source": [
    "# column 3 used to get most recent entry for each host (see below)\n",
    "hosts_df = listings_original.iloc[:, 16:34].merge(listings_original.iloc[:, [3, 16]], on='host_id')\n",
    "\n",
    "# if true, then we need to cull redundant host IDs before creating table\n",
    "len(hosts_df['host_id']) > len(hosts_df['host_id'].unique())"
   ]
  },
  {
   "cell_type": "code",
   "execution_count": 13,
   "id": "edfb6475-3eda-4494-8331-df10bb8a15a0",
   "metadata": {
    "tags": []
   },
   "outputs": [
    {
     "data": {
      "text/html": [
       "<div>\n",
       "<style scoped>\n",
       "    .dataframe tbody tr th:only-of-type {\n",
       "        vertical-align: middle;\n",
       "    }\n",
       "\n",
       "    .dataframe tbody tr th {\n",
       "        vertical-align: top;\n",
       "    }\n",
       "\n",
       "    .dataframe thead th {\n",
       "        text-align: right;\n",
       "    }\n",
       "</style>\n",
       "<table border=\"1\" class=\"dataframe\">\n",
       "  <thead>\n",
       "    <tr style=\"text-align: right;\">\n",
       "      <th></th>\n",
       "      <th>host_id</th>\n",
       "      <th>host_url</th>\n",
       "      <th>host_name</th>\n",
       "      <th>host_since</th>\n",
       "      <th>host_location</th>\n",
       "      <th>host_about</th>\n",
       "      <th>host_response_time</th>\n",
       "      <th>host_response_rate</th>\n",
       "      <th>host_acceptance_rate</th>\n",
       "      <th>host_is_superhost</th>\n",
       "      <th>host_thumbnail_url</th>\n",
       "      <th>host_picture_url</th>\n",
       "      <th>host_neighbourhood</th>\n",
       "      <th>host_listings_count</th>\n",
       "      <th>host_total_listings_count</th>\n",
       "      <th>host_verifications</th>\n",
       "      <th>host_has_profile_pic</th>\n",
       "      <th>host_identity_verified</th>\n",
       "      <th>last_scraped</th>\n",
       "    </tr>\n",
       "  </thead>\n",
       "  <tbody>\n",
       "    <tr>\n",
       "      <th>7754</th>\n",
       "      <td>4962900</td>\n",
       "      <td>https://www.airbnb.com/users/show/4962900</td>\n",
       "      <td>Jordan</td>\n",
       "      <td>2013-02-04</td>\n",
       "      <td>Spokane, Washington, United States</td>\n",
       "      <td>Stay Alfred was created based on the idea of o...</td>\n",
       "      <td>within an hour</td>\n",
       "      <td>99%</td>\n",
       "      <td>100%</td>\n",
       "      <td>f</td>\n",
       "      <td>https://a1.muscache.com/ac/users/4962900/profi...</td>\n",
       "      <td>https://a1.muscache.com/ac/users/4962900/profi...</td>\n",
       "      <td>Central Business District</td>\n",
       "      <td>169.0</td>\n",
       "      <td>169.0</td>\n",
       "      <td>['email', 'phone', 'linkedin', 'reviews', 'jum...</td>\n",
       "      <td>t</td>\n",
       "      <td>t</td>\n",
       "      <td>2016-01-04</td>\n",
       "    </tr>\n",
       "    <tr>\n",
       "      <th>7755</th>\n",
       "      <td>4962900</td>\n",
       "      <td>https://www.airbnb.com/users/show/4962900</td>\n",
       "      <td>Jordan</td>\n",
       "      <td>2013-02-04</td>\n",
       "      <td>Spokane, Washington, United States</td>\n",
       "      <td>Stay Alfred was created based on the idea of o...</td>\n",
       "      <td>within an hour</td>\n",
       "      <td>99%</td>\n",
       "      <td>100%</td>\n",
       "      <td>f</td>\n",
       "      <td>https://a1.muscache.com/ac/users/4962900/profi...</td>\n",
       "      <td>https://a1.muscache.com/ac/users/4962900/profi...</td>\n",
       "      <td>Central Business District</td>\n",
       "      <td>169.0</td>\n",
       "      <td>169.0</td>\n",
       "      <td>['email', 'phone', 'linkedin', 'reviews', 'jum...</td>\n",
       "      <td>t</td>\n",
       "      <td>t</td>\n",
       "      <td>2016-01-04</td>\n",
       "    </tr>\n",
       "    <tr>\n",
       "      <th>7756</th>\n",
       "      <td>4962900</td>\n",
       "      <td>https://www.airbnb.com/users/show/4962900</td>\n",
       "      <td>Jordan</td>\n",
       "      <td>2013-02-04</td>\n",
       "      <td>Spokane, Washington, United States</td>\n",
       "      <td>Stay Alfred was created based on the idea of o...</td>\n",
       "      <td>within an hour</td>\n",
       "      <td>99%</td>\n",
       "      <td>100%</td>\n",
       "      <td>f</td>\n",
       "      <td>https://a1.muscache.com/ac/users/4962900/profi...</td>\n",
       "      <td>https://a1.muscache.com/ac/users/4962900/profi...</td>\n",
       "      <td>Central Business District</td>\n",
       "      <td>169.0</td>\n",
       "      <td>169.0</td>\n",
       "      <td>['email', 'phone', 'linkedin', 'reviews', 'jum...</td>\n",
       "      <td>t</td>\n",
       "      <td>t</td>\n",
       "      <td>2016-01-04</td>\n",
       "    </tr>\n",
       "  </tbody>\n",
       "</table>\n",
       "</div>"
      ],
      "text/plain": [
       "      host_id                                   host_url host_name  \\\n",
       "7754  4962900  https://www.airbnb.com/users/show/4962900    Jordan   \n",
       "7755  4962900  https://www.airbnb.com/users/show/4962900    Jordan   \n",
       "7756  4962900  https://www.airbnb.com/users/show/4962900    Jordan   \n",
       "\n",
       "      host_since                       host_location  \\\n",
       "7754  2013-02-04  Spokane, Washington, United States   \n",
       "7755  2013-02-04  Spokane, Washington, United States   \n",
       "7756  2013-02-04  Spokane, Washington, United States   \n",
       "\n",
       "                                             host_about host_response_time  \\\n",
       "7754  Stay Alfred was created based on the idea of o...     within an hour   \n",
       "7755  Stay Alfred was created based on the idea of o...     within an hour   \n",
       "7756  Stay Alfred was created based on the idea of o...     within an hour   \n",
       "\n",
       "     host_response_rate host_acceptance_rate host_is_superhost  \\\n",
       "7754                99%                 100%                 f   \n",
       "7755                99%                 100%                 f   \n",
       "7756                99%                 100%                 f   \n",
       "\n",
       "                                     host_thumbnail_url  \\\n",
       "7754  https://a1.muscache.com/ac/users/4962900/profi...   \n",
       "7755  https://a1.muscache.com/ac/users/4962900/profi...   \n",
       "7756  https://a1.muscache.com/ac/users/4962900/profi...   \n",
       "\n",
       "                                       host_picture_url  \\\n",
       "7754  https://a1.muscache.com/ac/users/4962900/profi...   \n",
       "7755  https://a1.muscache.com/ac/users/4962900/profi...   \n",
       "7756  https://a1.muscache.com/ac/users/4962900/profi...   \n",
       "\n",
       "             host_neighbourhood  host_listings_count  \\\n",
       "7754  Central Business District                169.0   \n",
       "7755  Central Business District                169.0   \n",
       "7756  Central Business District                169.0   \n",
       "\n",
       "      host_total_listings_count  \\\n",
       "7754                      169.0   \n",
       "7755                      169.0   \n",
       "7756                      169.0   \n",
       "\n",
       "                                     host_verifications host_has_profile_pic  \\\n",
       "7754  ['email', 'phone', 'linkedin', 'reviews', 'jum...                    t   \n",
       "7755  ['email', 'phone', 'linkedin', 'reviews', 'jum...                    t   \n",
       "7756  ['email', 'phone', 'linkedin', 'reviews', 'jum...                    t   \n",
       "\n",
       "     host_identity_verified last_scraped  \n",
       "7754                      t   2016-01-04  \n",
       "7755                      t   2016-01-04  \n",
       "7756                      t   2016-01-04  "
      ]
     },
     "execution_count": 13,
     "metadata": {},
     "output_type": "execute_result"
    }
   ],
   "source": [
    "# look at redundant host data to determine best course of how to consolidate columns\n",
    "idx = 1 # index var for quick switching\n",
    "redundant_host_id = hosts_df['host_id'].value_counts().keys()[idx]\n",
    "hosts_df[hosts_df['host_id'] == redundant_host_id].head(3)"
   ]
  },
  {
   "cell_type": "code",
   "execution_count": 14,
   "id": "5d93eca7-006a-49b1-909f-c597cab59584",
   "metadata": {
    "tags": []
   },
   "outputs": [
    {
     "data": {
      "text/plain": [
       "True"
      ]
     },
     "execution_count": 14,
     "metadata": {},
     "output_type": "execute_result"
    }
   ],
   "source": [
    "# observed little variation between redundant host rows, okay to cull all but most recent\n",
    "sorted_hosts_df = hosts_df.sort_values('last_scraped', ascending=False).drop_duplicates('host_id')\n",
    "# make same redundancy check\n",
    "len(sorted_hosts_df['host_id']) == len(sorted_hosts_df['host_id'].unique())"
   ]
  },
  {
   "cell_type": "code",
   "execution_count": 15,
   "id": "8cd2ae90-f6c1-4956-846c-eb067e16801d",
   "metadata": {
    "tags": []
   },
   "outputs": [
    {
     "data": {
      "text/plain": [
       "['host_id',\n",
       " 'host_since',\n",
       " 'host_location',\n",
       " 'host_response_time',\n",
       " 'host_response_rate',\n",
       " 'host_acceptance_rate',\n",
       " 'host_is_superhost',\n",
       " 'host_neighbourhood',\n",
       " 'host_listings_count',\n",
       " 'host_total_listings_count',\n",
       " 'host_verifications',\n",
       " 'host_has_profile_pic',\n",
       " 'host_identity_verified']"
      ]
     },
     "execution_count": 15,
     "metadata": {},
     "output_type": "execute_result"
    }
   ],
   "source": [
    "# remove extraneous columns; axis specifies to drop on col name, inplace modifies orignal DF\n",
    "sorted_hosts_df.drop(['host_url', 'host_name', 'host_about', 'host_thumbnail_url', 'host_picture_url', 'last_scraped'], axis=1, inplace=True)\n",
    "# remaining columns might be used to perform analysis on host qualities vs listing/host ratings\n",
    "# name removed for data ethics\n",
    "sorted_hosts_df.columns.to_list()"
   ]
  },
  {
   "cell_type": "code",
   "execution_count": 16,
   "id": "49ebfccf-6f35-44e7-8404-faeb8bdeb762",
   "metadata": {
    "tags": []
   },
   "outputs": [
    {
     "name": "stdout",
     "output_type": "stream",
     "text": [
      "<class 'pandas.core.frame.DataFrame'>\n",
      "Index: 2751 entries, 0 to 16327\n",
      "Data columns (total 13 columns):\n",
      " #   Column                     Non-Null Count  Dtype  \n",
      "---  ------                     --------------  -----  \n",
      " 0   host_id                    2751 non-null   int64  \n",
      " 1   host_since                 2749 non-null   object \n",
      " 2   host_location              2743 non-null   object \n",
      " 3   host_response_time         2247 non-null   object \n",
      " 4   host_response_rate         2247 non-null   object \n",
      " 5   host_acceptance_rate       2020 non-null   object \n",
      " 6   host_is_superhost          2749 non-null   object \n",
      " 7   host_neighbourhood         2472 non-null   object \n",
      " 8   host_listings_count        2749 non-null   float64\n",
      " 9   host_total_listings_count  2749 non-null   float64\n",
      " 10  host_verifications         2749 non-null   object \n",
      " 11  host_has_profile_pic       2749 non-null   object \n",
      " 12  host_identity_verified     2749 non-null   object \n",
      "dtypes: float64(2), int64(1), object(10)\n",
      "memory usage: 300.9+ KB\n"
     ]
    }
   ],
   "source": [
    "sorted_hosts_df.info()"
   ]
  },
  {
   "cell_type": "code",
   "execution_count": 17,
   "id": "eec2839d-c7ae-40bc-9271-7ae44f6b72e0",
   "metadata": {},
   "outputs": [],
   "source": [
    "# TODO - reformat certain column data types: \n",
    "# host_since => days since host joined (int)\n",
    "sorted_hosts_df['host_since'] =  pd.to_datetime(sorted_hosts_df['host_since'])\n",
    "\n",
    "# host_response_rate, host_acceptance_rate => float\n",
    "# sorted_hosts_df['host_response_rate'] = sorted_hosts_df['host_response_rate'].astype('float64')\n",
    "sorted_hosts_df['host_response_rate'] = sorted_hosts_df['host_response_rate'].astype(str)\n",
    "sorted_hosts_df['host_response_rate'] = pd.to_numeric(sorted_hosts_df['host_response_rate'].str.replace(\"%\", \"\"), errors='coerce')\n",
    "\n",
    "sorted_hosts_df['host_acceptance_rate'] = sorted_hosts_df['host_acceptance_rate'].astype(str)\n",
    "sorted_hosts_df['host_acceptance_rate'] = pd.to_numeric(sorted_hosts_df['host_acceptance_rate'].str.replace(\"%\", \"\"), errors='coerce')\n",
    "\n",
    "# host_is_superhost, host_has_profile_pic => boolean\n",
    "sorted_hosts_df['host_is_superhost'] = sorted_hosts_df['host_is_superhost'].astype('bool')\n",
    "sorted_hosts_df['host_has_profile_pic'] = sorted_hosts_df['host_has_profile_pic'].astype('bool')\n",
    "\n",
    "# condense listings_count and total_listings_count - DELETE total_listings_count\n",
    "del sorted_hosts_df['host_total_listings_count']\n",
    "\n",
    "# Filling missing values for numeric columns\n",
    "sorted_hosts_df['host_response_rate'].fillna(-1.0, inplace=True)\n",
    "sorted_hosts_df['host_acceptance_rate'].fillna(-1.0, inplace=True)\n",
    "\n",
    "# Filling missing values for categorical columns\n",
    "sorted_hosts_df['host_response_time'].fillna('Unknown', inplace=True)\n",
    "\n",
    "# host_verifications => host number types verified (int)\n",
    "sorted_hosts_df.to_csv('./Resources/hosts.csv', index=False)"
   ]
  },
  {
   "cell_type": "code",
   "execution_count": 18,
   "id": "f1c1dd84-6012-4d61-9d42-dbdf019fe1f3",
   "metadata": {},
   "outputs": [
    {
     "name": "stdout",
     "output_type": "stream",
     "text": [
      "<class 'pandas.core.frame.DataFrame'>\n",
      "Index: 2751 entries, 0 to 16327\n",
      "Data columns (total 12 columns):\n",
      " #   Column                  Non-Null Count  Dtype         \n",
      "---  ------                  --------------  -----         \n",
      " 0   host_id                 2751 non-null   int64         \n",
      " 1   host_since              2749 non-null   datetime64[ns]\n",
      " 2   host_location           2743 non-null   object        \n",
      " 3   host_response_time      2751 non-null   object        \n",
      " 4   host_response_rate      2247 non-null   float64       \n",
      " 5   host_acceptance_rate    2751 non-null   float64       \n",
      " 6   host_is_superhost       2751 non-null   bool          \n",
      " 7   host_neighbourhood      2472 non-null   object        \n",
      " 8   host_listings_count     2749 non-null   float64       \n",
      " 9   host_verifications      2749 non-null   object        \n",
      " 10  host_has_profile_pic    2751 non-null   bool          \n",
      " 11  host_identity_verified  2749 non-null   object        \n",
      "dtypes: bool(2), datetime64[ns](1), float64(3), int64(1), object(5)\n",
      "memory usage: 241.8+ KB\n"
     ]
    }
   ],
   "source": [
    "sorted_hosts_df.info()"
   ]
  },
  {
   "cell_type": "code",
   "execution_count": null,
   "id": "f51f0301-053e-4602-8036-eeed6b84c97e",
   "metadata": {},
   "outputs": [],
   "source": []
  }
 ],
 "metadata": {
  "kernelspec": {
   "display_name": "Python 3 (ipykernel)",
   "language": "python",
   "name": "python3"
  },
  "language_info": {
   "codemirror_mode": {
    "name": "ipython",
    "version": 3
   },
   "file_extension": ".py",
   "mimetype": "text/x-python",
   "name": "python",
   "nbconvert_exporter": "python",
   "pygments_lexer": "ipython3",
   "version": "3.9.18"
  }
 },
 "nbformat": 4,
 "nbformat_minor": 5
}
